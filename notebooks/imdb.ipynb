{
 "cells": [
  {
   "cell_type": "markdown",
   "metadata": {},
   "source": [
    "# IMDB Example\n",
    "\n",
    "This example is based on an example from François Chollet's Deep Learning\n",
    "with Python that was also made available in the\n",
    "`3.5-classifying-movie-reviews.ipynb` notebook at\n",
    "\n",
    "    https://github.com/fchollet/deep-learning-with-python-notebooks"
   ]
  },
  {
   "cell_type": "code",
   "execution_count": 2,
   "metadata": {
    "scrolled": true
   },
   "outputs": [
    {
     "name": "stdout",
     "output_type": "stream",
     "text": [
      "Obtaining file:///src/workspace/pybt\n",
      "Requirement already satisfied: numpy>=1.9.1 in /opt/conda/lib/python3.6/site-packages (from pybt==0.1.0)\n",
      "Requirement already satisfied: pandas in /opt/conda/lib/python3.6/site-packages (from pybt==0.1.0)\n",
      "Requirement already satisfied: python-dateutil>=2 in /opt/conda/lib/python3.6/site-packages (from pandas->pybt==0.1.0)\n",
      "Requirement already satisfied: pytz>=2011k in /opt/conda/lib/python3.6/site-packages (from pandas->pybt==0.1.0)\n",
      "Requirement already satisfied: six>=1.5 in /opt/conda/lib/python3.6/site-packages (from python-dateutil>=2->pandas->pybt==0.1.0)\n",
      "Installing collected packages: pybt\n",
      "  Found existing installation: pybt 0.1.0\n",
      "    Uninstalling pybt-0.1.0:\n",
      "      Successfully uninstalled pybt-0.1.0\n",
      "  Running setup.py develop for pybt\n",
      "Successfully installed pybt\n"
     ]
    }
   ],
   "source": [
    "!cd .. && pip install -e ."
   ]
  },
  {
   "cell_type": "code",
   "execution_count": 4,
   "metadata": {
    "scrolled": true
   },
   "outputs": [],
   "source": [
    "from keras import layers, models\n",
    "from keras.datasets import imdb\n",
    "from keras.layers import Dense\n",
    "from keras.losses import binary_crossentropy\n",
    "from keras.optimizers import RMSprop\n",
    "from keras.utils import to_categorical\n",
    "\n",
    "import numpy as np\n",
    "\n",
    "from pybt import Trainer\n",
    "from pybt.policy.done import StopAfter"
   ]
  },
  {
   "cell_type": "code",
   "execution_count": 5,
   "metadata": {},
   "outputs": [],
   "source": [
    "def vectorize_sequences(sequences, dimension=10000):\n",
    "    results = np.zeros((len(sequences), dimension))\n",
    "\n",
    "    for i, sequence in enumerate(sequences):\n",
    "        results[i, sequence] = 1.\n",
    "\n",
    "    return results\n",
    "\n",
    "(train_data, train_labels), (test_data, test_labels) = imdb.load_data(\n",
    "    num_words=10000)\n",
    "\n",
    "x_train = vectorize_sequences(train_data)\n",
    "x_test = vectorize_sequences(test_data)\n",
    "\n",
    "y_train = np.asarray(train_labels).astype('float32')\n",
    "y_test = np.asarray(test_labels).astype('float32')\n",
    "\n",
    "x_val = x_train[:10000]\n",
    "partial_x_train = x_train[10000:]\n",
    "\n",
    "y_val = y_train[:10000]\n",
    "partial_y_train = y_train[10000:]\n",
    "\n",
    "model = models.Sequential()\n",
    "model.add(Dense(16, activation='relu', input_shape=(10000,)))\n",
    "model.add(Dense(16, activation='relu'))\n",
    "model.add(Dense(1, activation='sigmoid'))\n",
    "\n",
    "model.compile(optimizer=RMSprop(lr=0.001),\n",
    "              loss=binary_crossentropy,\n",
    "              metrics=['accuracy'])"
   ]
  },
  {
   "cell_type": "code",
   "execution_count": 6,
   "metadata": {},
   "outputs": [
    {
     "name": "stdout",
     "output_type": "stream",
     "text": [
      "10000/10000 [==============================] - 1s 117us/step\n",
      "10000/10000 [==============================] - 1s 132us/step\n",
      "Train on 15000 samples, validate on 10000 samples\n",
      "Epoch 1/10\n",
      "15000/15000 [==============================] - 2s 136us/step - loss: 0.5084 - acc: 0.7813 - val_loss: 0.3797 - val_acc: 0.8684\n",
      "Epoch 2/10\n",
      "15000/15000 [==============================] - 2s 120us/step - loss: 0.3004 - acc: 0.9047 - val_loss: 0.3004 - val_acc: 0.8897\n",
      "Epoch 3/10\n",
      "15000/15000 [==============================] - 2s 126us/step - loss: 0.2179 - acc: 0.9285 - val_loss: 0.3085 - val_acc: 0.8711\n",
      "Epoch 4/10\n",
      "15000/15000 [==============================] - 2s 134us/step - loss: 0.1750 - acc: 0.9437 - val_loss: 0.2840 - val_acc: 0.8832\n",
      "Epoch 5/10\n",
      "15000/15000 [==============================] - 2s 138us/step - loss: 0.1427 - acc: 0.9543 - val_loss: 0.2841 - val_acc: 0.8872\n",
      "Epoch 6/10\n",
      "15000/15000 [==============================] - 2s 128us/step - loss: 0.1150 - acc: 0.9650 - val_loss: 0.3166 - val_acc: 0.8772\n",
      "Epoch 7/10\n",
      "15000/15000 [==============================] - 2s 126us/step - loss: 0.0980 - acc: 0.9705 - val_loss: 0.3127 - val_acc: 0.8846\n",
      "Epoch 8/10\n",
      "15000/15000 [==============================] - 2s 140us/step - loss: 0.0807 - acc: 0.9763 - val_loss: 0.3859 - val_acc: 0.8649\n",
      "Epoch 9/10\n",
      "15000/15000 [==============================] - 2s 124us/step - loss: 0.0661 - acc: 0.9821 - val_loss: 0.3635 - val_acc: 0.8782\n",
      "Epoch 10/10\n",
      "15000/15000 [==============================] - 2s 118us/step - loss: 0.0561 - acc: 0.9853 - val_loss: 0.3843 - val_acc: 0.8792\n",
      "10000/10000 [==============================] - 1s 105us/step\n",
      "10\n",
      "10000/10000 [==============================] - 1s 106us/step\n",
      "Train on 15000 samples, validate on 10000 samples\n",
      "Epoch 11/20\n",
      "15000/15000 [==============================] - 2s 119us/step - loss: 0.0429 - acc: 0.9907 - val_loss: 0.4183 - val_acc: 0.8778\n",
      "Epoch 12/20\n",
      "15000/15000 [==============================] - 2s 129us/step - loss: 0.0382 - acc: 0.9921 - val_loss: 0.4786 - val_acc: 0.8647\n",
      "Epoch 13/20\n",
      "15000/15000 [==============================] - 2s 144us/step - loss: 0.0300 - acc: 0.9942 - val_loss: 0.4781 - val_acc: 0.8700\n",
      "Epoch 14/20\n",
      "15000/15000 [==============================] - 2s 126us/step - loss: 0.0253 - acc: 0.9953 - val_loss: 0.5007 - val_acc: 0.8727\n",
      "Epoch 15/20\n",
      "15000/15000 [==============================] - 2s 118us/step - loss: 0.0184 - acc: 0.9977 - val_loss: 0.5808 - val_acc: 0.8598\n",
      "Epoch 16/20\n",
      "15000/15000 [==============================] - 2s 127us/step - loss: 0.0173 - acc: 0.9965 - val_loss: 0.5691 - val_acc: 0.8678\n",
      "Epoch 17/20\n",
      "15000/15000 [==============================] - 2s 122us/step - loss: 0.0130 - acc: 0.9979 - val_loss: 0.6001 - val_acc: 0.8670\n",
      "Epoch 18/20\n",
      "15000/15000 [==============================] - 2s 120us/step - loss: 0.0117 - acc: 0.9981 - val_loss: 0.6278 - val_acc: 0.8676\n",
      "Epoch 19/20\n",
      "15000/15000 [==============================] - 2s 124us/step - loss: 0.0057 - acc: 0.9999 - val_loss: 0.6701 - val_acc: 0.8627\n",
      "Epoch 20/20\n",
      "15000/15000 [==============================] - 2s 118us/step - loss: 0.0106 - acc: 0.9972 - val_loss: 0.6982 - val_acc: 0.8664\n",
      "10000/10000 [==============================] - 1s 118us/step\n",
      "10\n",
      "10000/10000 [==============================] - 1s 97us/step\n"
     ]
    }
   ],
   "source": [
    "# Create a population with this model and train for 2 steps\n",
    "t = Trainer(model=model,\n",
    "    stopping_criteria=StopAfter(epochs=20),\n",
    "    step_args = {'epochs_per_step': 10,\n",
    "                 'fit_args': {\n",
    "                     'x': partial_x_train, 'y': partial_y_train,\n",
    "                     'validation_data': (x_val, y_val),\n",
    "                     'batch_size': 512}},\n",
    "    eval_args = {'x': x_val, 'y': y_val})\n",
    "model = t.train()"
   ]
  },
  {
   "cell_type": "markdown",
   "metadata": {},
   "source": [
    "## Plotting population results"
   ]
  },
  {
   "cell_type": "code",
   "execution_count": 8,
   "metadata": {
    "scrolled": true
   },
   "outputs": [
    {
     "data": {
      "image/png": "[encoded data removed]",
      "text/plain": [
       "<matplotlib.figure.Figure at 0x7ff713a2b470>"
      ]
     },
     "metadata": {},
     "output_type": "display_data"
    }
   ],
   "source": [
    "import matplotlib.pyplot as plt\n",
    "\n",
    "last_member = t.observations()[-1]\n",
    "obs = last_member['observations'][-1]\n",
    "\n",
    "plt.plot(obs['epochs'], obs['acc'], 'bo', label='Training acc.')\n",
    "plt.plot(obs['epochs'], obs['val_acc'], 'b', label='Validation acc.')\n",
    "plt.xlabel('Epochs')\n",
    "plt.ylabel('Accuracy')\n",
    "plt.legend()\n",
    "plt.show()"
   ]
  },
  {
   "cell_type": "code",
   "execution_count": 9,
   "metadata": {},
   "outputs": [
    {
     "data": {
      "image/png": "[encoded data removed]",
      "text/plain": [
       "<matplotlib.figure.Figure at 0x7ff7180fb208>"
      ]
     },
     "metadata": {},
     "output_type": "display_data"
    }
   ],
   "source": [
    "plt.plot(obs['epochs'], obs['loss'], 'bo', label='Training loss')\n",
    "plt.plot(obs['epochs'], obs['val_loss'], 'b', label='Validation loss')\n",
    "plt.xlabel('Epochs')\n",
    "plt.ylabel('Loss')\n",
    "plt.legend()\n",
    "plt.show()"
   ]
  },
  {
   "cell_type": "code",
   "execution_count": null,
   "metadata": {},
   "outputs": [],
   "source": []
  }
 ],
 "metadata": {
  "kernelspec": {
   "display_name": "Python 3",
   "language": "python",
   "name": "python3"
  },
  "language_info": {
   "codemirror_mode": {
    "name": "ipython",
    "version": 3
   },
   "file_extension": ".py",
   "mimetype": "text/x-python",
   "name": "python",
   "nbconvert_exporter": "python",
   "pygments_lexer": "ipython3",
   "version": "3.6.3"
  }
 },
 "nbformat": 4,
 "nbformat_minor": 2
}
