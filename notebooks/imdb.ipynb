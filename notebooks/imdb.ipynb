{
 "cells": [
  {
   "cell_type": "markdown",
   "metadata": {},
   "source": [
    "# IMDB Example\n",
    "\n",
    "This example is based on an example from François Chollet's Deep Learning\n",
    "with Python that was also made available in the\n",
    "`3.5-classifying-movie-reviews.ipynb` notebook at\n",
    "\n",
    "    https://github.com/fchollet/deep-learning-with-python-notebooks"
   ]
  },
  {
   "cell_type": "code",
   "execution_count": null,
   "metadata": {
    "scrolled": true
   },
   "outputs": [],
   "source": [
    "!cd .. && pip install -e ."
   ]
  },
  {
   "cell_type": "code",
   "execution_count": 1,
   "metadata": {
    "scrolled": true
   },
   "outputs": [
    {
     "name": "stderr",
     "output_type": "stream",
     "text": [
      "/opt/conda/lib/python3.6/site-packages/h5py/__init__.py:36: FutureWarning: Conversion of the second argument of issubdtype from `float` to `np.floating` is deprecated. In future, it will be treated as `np.float64 == np.dtype(float).type`.\n",
      "  from ._conv import register_converters as _register_converters\n",
      "Using TensorFlow backend.\n"
     ]
    }
   ],
   "source": [
    "from keras import layers, models\n",
    "from keras.datasets import imdb\n",
    "from keras.layers import Dense\n",
    "from keras.losses import binary_crossentropy\n",
    "from keras.optimizers import RMSprop\n",
    "from keras.utils import to_categorical\n",
    "\n",
    "import numpy as np\n",
    "\n",
    "from pybt import Trainer\n",
    "from pybt.model import KerasModelWrapper\n",
    "from pybt.policy.ready import ReadyAfter\n",
    "from pybt.policy.done import StopAfter"
   ]
  },
  {
   "cell_type": "code",
   "execution_count": 2,
   "metadata": {},
   "outputs": [],
   "source": [
    "def vectorize_sequences(sequences, dimension=10000):\n",
    "    results = np.zeros((len(sequences), dimension))\n",
    "\n",
    "    for i, sequence in enumerate(sequences):\n",
    "        results[i, sequence] = 1.\n",
    "\n",
    "    return results\n",
    "\n",
    "(train_data, train_labels), (test_data, test_labels) = imdb.load_data(\n",
    "    num_words=10000)\n",
    "\n",
    "x_train = vectorize_sequences(train_data)\n",
    "x_test = vectorize_sequences(test_data)\n",
    "\n",
    "y_train = np.asarray(train_labels).astype('float32')\n",
    "y_test = np.asarray(test_labels).astype('float32')\n",
    "\n",
    "x_val = x_train[:10000]\n",
    "partial_x_train = x_train[10000:]\n",
    "\n",
    "y_val = y_train[:10000]\n",
    "partial_y_train = y_train[10000:]\n",
    "\n",
    "model = models.Sequential()\n",
    "model.add(Dense(16, activation='relu', input_shape=(10000,)))\n",
    "model.add(Dense(16, activation='relu'))\n",
    "model.add(Dense(1, activation='sigmoid'))\n",
    "\n",
    "model.compile(optimizer=RMSprop(lr=0.001),\n",
    "              loss=binary_crossentropy,\n",
    "              metrics=['accuracy'])"
   ]
  },
  {
   "cell_type": "code",
   "execution_count": 3,
   "metadata": {},
   "outputs": [
    {
     "name": "stdout",
     "output_type": "stream",
     "text": [
      "10000/10000 [==============================] - 1s 105us/step\n",
      "10000/10000 [==============================] - 1s 100us/step\n",
      "Train on 15000 samples, validate on 10000 samples\n",
      "Epoch 1/2\n",
      "15000/15000 [==============================] - 2s 108us/step - loss: 0.5093 - acc: 0.7849 - val_loss: 0.3894 - val_acc: 0.8571\n",
      "Epoch 2/2\n",
      "15000/15000 [==============================] - 2s 103us/step - loss: 0.3039 - acc: 0.9003 - val_loss: 0.3044 - val_acc: 0.8876\n",
      "10000/10000 [==============================] - 1s 119us/step\n",
      "10000/10000 [==============================] - 1s 129us/step\n",
      "Train on 15000 samples, validate on 10000 samples\n",
      "Epoch 3/4\n",
      "15000/15000 [==============================] - 1s 99us/step - loss: 0.2250 - acc: 0.9217 - val_loss: 0.2853 - val_acc: 0.8862\n",
      "Epoch 4/4\n",
      "15000/15000 [==============================] - 1s 94us/step - loss: 0.1676 - acc: 0.9437 - val_loss: 0.2920 - val_acc: 0.8821\n",
      "10000/10000 [==============================] - 1s 102us/step\n",
      "10000/10000 [==============================] - 1s 110us/step\n",
      "10000/10000 [==============================] - 1s 107us/step\n",
      "10000/10000 [==============================] - 1s 103us/step\n",
      "10000/10000 [==============================] - 1s 121us/step\n",
      "Train on 15000 samples, validate on 10000 samples\n",
      "Epoch 3/4\n",
      "15000/15000 [==============================] - 2s 107us/step - loss: 0.5128 - acc: 0.7809 - val_loss: 0.3890 - val_acc: 0.8657\n",
      "Epoch 4/4\n",
      "15000/15000 [==============================] - 1s 90us/step - loss: 0.3095 - acc: 0.9032 - val_loss: 0.3154 - val_acc: 0.8811\n",
      "10000/10000 [==============================] - 1s 102us/step\n",
      "10000/10000 [==============================] - 1s 105us/step\n",
      "Train on 15000 samples, validate on 10000 samples\n",
      "Epoch 5/6\n",
      "15000/15000 [==============================] - 2s 108us/step - loss: 0.2301 - acc: 0.9238 - val_loss: 0.2814 - val_acc: 0.8880\n",
      "Epoch 6/6\n",
      "15000/15000 [==============================] - 1s 94us/step - loss: 0.1738 - acc: 0.9442 - val_loss: 0.2771 - val_acc: 0.8884\n",
      "10000/10000 [==============================] - 1s 101us/step\n",
      "10000/10000 [==============================] - 1s 106us/step\n",
      "Train on 15000 samples, validate on 10000 samples\n",
      "Epoch 7/8\n",
      "15000/15000 [==============================] - 2s 105us/step - loss: 0.1506 - acc: 0.9503 - val_loss: 0.2825 - val_acc: 0.8873\n",
      "Epoch 8/8\n",
      "15000/15000 [==============================] - 2s 104us/step - loss: 0.1154 - acc: 0.9657 - val_loss: 0.2940 - val_acc: 0.8856\n",
      "10000/10000 [==============================] - 1s 110us/step\n",
      "10000/10000 [==============================] - 1s 114us/step\n",
      "Train on 15000 samples, validate on 10000 samples\n",
      "Epoch 9/10\n",
      "15000/15000 [==============================] - 2s 127us/step - loss: 0.1044 - acc: 0.9658 - val_loss: 0.3132 - val_acc: 0.8845\n",
      "Epoch 10/10\n",
      "15000/15000 [==============================] - 1s 92us/step - loss: 0.0783 - acc: 0.9772 - val_loss: 0.3498 - val_acc: 0.8826\n",
      "10000/10000 [==============================] - 1s 104us/step\n",
      "10000/10000 [==============================] - 1s 112us/step\n",
      "Train on 15000 samples, validate on 10000 samples\n",
      "Epoch 11/12\n",
      "15000/15000 [==============================] - 2s 107us/step - loss: 0.0725 - acc: 0.9789 - val_loss: 0.3624 - val_acc: 0.8812\n",
      "Epoch 12/12\n",
      "15000/15000 [==============================] - 1s 88us/step - loss: 0.0551 - acc: 0.9852 - val_loss: 0.3837 - val_acc: 0.8789\n",
      "10000/10000 [==============================] - 1s 103us/step\n",
      "10000/10000 [==============================] - 1s 117us/step\n",
      "10000/10000 [==============================] - 1s 115us/step\n",
      "10000/10000 [==============================] - 1s 107us/step\n",
      "10000/10000 [==============================] - 1s 117us/step\n",
      "Train on 15000 samples, validate on 10000 samples\n",
      "Epoch 7/8\n",
      "15000/15000 [==============================] - 2s 116us/step - loss: 0.5036 - acc: 0.7699 - val_loss: 0.3840 - val_acc: 0.8584\n",
      "Epoch 8/8\n",
      "15000/15000 [==============================] - 1s 95us/step - loss: 0.3090 - acc: 0.8955 - val_loss: 0.3136 - val_acc: 0.8805\n",
      "10000/10000 [==============================] - 1s 108us/step\n",
      "10000/10000 [==============================] - 1s 125us/step\n",
      "Train on 15000 samples, validate on 10000 samples\n",
      "Epoch 9/10\n",
      "15000/15000 [==============================] - 2s 112us/step - loss: 0.2304 - acc: 0.9191 - val_loss: 0.3086 - val_acc: 0.8753\n",
      "Epoch 10/10\n",
      "15000/15000 [==============================] - 1s 93us/step - loss: 0.1730 - acc: 0.9420 - val_loss: 0.2808 - val_acc: 0.8863\n",
      "10000/10000 [==============================] - 1s 109us/step\n",
      "10000/10000 [==============================] - 1s 117us/step\n",
      "Train on 15000 samples, validate on 10000 samples\n",
      "Epoch 11/12\n",
      "15000/15000 [==============================] - 2s 133us/step - loss: 0.1504 - acc: 0.9500 - val_loss: 0.3135 - val_acc: 0.8774\n",
      "Epoch 12/12\n",
      "15000/15000 [==============================] - 1s 92us/step - loss: 0.1158 - acc: 0.9645 - val_loss: 0.2987 - val_acc: 0.8850\n",
      "10000/10000 [==============================] - 1s 107us/step\n",
      "10000/10000 [==============================] - 1s 121us/step\n",
      "Train on 15000 samples, validate on 10000 samples\n",
      "Epoch 13/14\n",
      "15000/15000 [==============================] - 2s 123us/step - loss: 0.1040 - acc: 0.9672 - val_loss: 0.3306 - val_acc: 0.8798\n",
      "Epoch 14/14\n",
      "15000/15000 [==============================] - 2s 109us/step - loss: 0.0804 - acc: 0.9769 - val_loss: 0.3325 - val_acc: 0.8826\n",
      "10000/10000 [==============================] - 1s 108us/step\n",
      "10000/10000 [==============================] - 1s 134us/step\n",
      "Train on 15000 samples, validate on 10000 samples\n",
      "Epoch 15/16\n",
      "15000/15000 [==============================] - 2s 141us/step - loss: 0.0739 - acc: 0.9769 - val_loss: 0.3632 - val_acc: 0.8771\n",
      "Epoch 16/16\n",
      "15000/15000 [==============================] - 1s 95us/step - loss: 0.0545 - acc: 0.9867 - val_loss: 0.4004 - val_acc: 0.8738\n",
      "10000/10000 [==============================] - 1s 115us/step\n",
      "10000/10000 [==============================] - 1s 123us/step\n",
      "10000/10000 [==============================] - 1s 134us/step\n",
      "10000/10000 [==============================] - 1s 109us/step\n",
      "10000/10000 [==============================] - 1s 142us/step\n",
      "Train on 15000 samples, validate on 10000 samples\n",
      "Epoch 7/8\n",
      "15000/15000 [==============================] - 2s 132us/step - loss: 0.4994 - acc: 0.7761 - val_loss: 0.3851 - val_acc: 0.8594\n",
      "Epoch 8/8\n",
      "15000/15000 [==============================] - 1s 96us/step - loss: 0.3082 - acc: 0.8953 - val_loss: 0.3228 - val_acc: 0.8713\n",
      "10000/10000 [==============================] - 1s 108us/step\n",
      "10000/10000 [==============================] - 1s 130us/step\n",
      "Train on 15000 samples, validate on 10000 samples\n",
      "Epoch 9/10\n",
      "15000/15000 [==============================] - 2s 139us/step - loss: 0.2348 - acc: 0.9187 - val_loss: 0.2950 - val_acc: 0.8813\n",
      "Epoch 10/10\n",
      "15000/15000 [==============================] - 2s 109us/step - loss: 0.1789 - acc: 0.9373 - val_loss: 0.2768 - val_acc: 0.8883\n",
      "10000/10000 [==============================] - 1s 110us/step\n",
      "10000/10000 [==============================] - 1s 132us/step\n",
      "Train on 15000 samples, validate on 10000 samples\n",
      "Epoch 11/12\n",
      "15000/15000 [==============================] - 2s 141us/step - loss: 0.1502 - acc: 0.9463 - val_loss: 0.2935 - val_acc: 0.8845\n",
      "Epoch 12/12\n",
      "15000/15000 [==============================] - 1s 91us/step - loss: 0.1138 - acc: 0.9643 - val_loss: 0.2976 - val_acc: 0.8846\n",
      "10000/10000 [==============================] - 1s 107us/step\n",
      "10000/10000 [==============================] - 1s 127us/step\n",
      "Train on 15000 samples, validate on 10000 samples\n",
      "Epoch 13/14\n",
      "15000/15000 [==============================] - 2s 136us/step - loss: 0.1049 - acc: 0.9653 - val_loss: 0.3149 - val_acc: 0.8822\n",
      "Epoch 14/14\n",
      "15000/15000 [==============================] - 1s 92us/step - loss: 0.0782 - acc: 0.9773 - val_loss: 0.3339 - val_acc: 0.8805\n",
      "10000/10000 [==============================] - 1s 107us/step\n",
      "10000/10000 [==============================] - 1s 136us/step\n",
      "Train on 15000 samples, validate on 10000 samples\n",
      "Epoch 15/16\n",
      "15000/15000 [==============================] - 2s 135us/step - loss: 0.0728 - acc: 0.9767 - val_loss: 0.3933 - val_acc: 0.8725\n",
      "Epoch 16/16\n",
      "15000/15000 [==============================] - 1s 93us/step - loss: 0.0543 - acc: 0.9855 - val_loss: 0.3833 - val_acc: 0.8738\n"
     ]
    },
    {
     "name": "stdout",
     "output_type": "stream",
     "text": [
      "10000/10000 [==============================] - 1s 111us/step\n",
      "10000/10000 [==============================] - 1s 146us/step\n",
      "Train on 15000 samples, validate on 10000 samples\n",
      "Epoch 17/18\n",
      "15000/15000 [==============================] - 2s 140us/step - loss: 0.0494 - acc: 0.9854 - val_loss: 0.4324 - val_acc: 0.8707\n",
      "Epoch 18/18\n",
      "15000/15000 [==============================] - 2s 100us/step - loss: 0.0348 - acc: 0.9924 - val_loss: 0.4597 - val_acc: 0.8707\n",
      "10000/10000 [==============================] - 1s 112us/step\n",
      "10000/10000 [==============================] - 2s 151us/step\n",
      "Train on 15000 samples, validate on 10000 samples\n",
      "Epoch 19/20\n",
      "15000/15000 [==============================] - 2s 143us/step - loss: 0.0334 - acc: 0.9923 - val_loss: 0.4709 - val_acc: 0.8729\n",
      "Epoch 20/20\n",
      "15000/15000 [==============================] - 1s 92us/step - loss: 0.0209 - acc: 0.9969 - val_loss: 0.5178 - val_acc: 0.8713\n",
      "10000/10000 [==============================] - 1s 111us/step\n",
      "10000/10000 [==============================] - 1s 142us/step\n"
     ]
    }
   ],
   "source": [
    "# Create a population with this model and train for 10 steps\n",
    "m = KerasModelWrapper(model, optimizer=RMSprop(lr=0.001),\n",
    "                      loss=binary_crossentropy,\n",
    "                      metrics=['accuracy'])\n",
    "t = Trainer(model=m,\n",
    "    stopping_criteria=StopAfter(epochs=20),\n",
    "    ready_strategy=ReadyAfter(4),\n",
    "    step_args={'epochs_per_step': 2,\n",
    "               'fit_args': {\n",
    "                   'x': partial_x_train, 'y': partial_y_train,\n",
    "                   'validation_data': (x_val, y_val),\n",
    "                   'batch_size': 512}},\n",
    "    eval_args={'x': x_val, 'y': y_val})\n",
    "model, score = t.train()"
   ]
  },
  {
   "cell_type": "markdown",
   "metadata": {},
   "source": [
    "## Plotting population results"
   ]
  },
  {
   "cell_type": "code",
   "execution_count": 9,
   "metadata": {
    "scrolled": true
   },
   "outputs": [
    {
     "data": {
      "image/png": "[encoded data removed]",
      "text/plain": [
       "<matplotlib.figure.Figure at 0x7f07cf720ef0>"
      ]
     },
     "metadata": {},
     "output_type": "display_data"
    }
   ],
   "source": [
    "import matplotlib.pyplot as plt\n",
    "\n",
    "last_member = t.observations()[-1]\n",
    "obs = last_member['observations'][-1]\n",
    "\n",
    "epochs, acc, loss, val_acc, val_loss = ([], [], [], [], [])\n",
    "for x in last_member['observations']:\n",
    "    epochs.extend(x['epochs'])\n",
    "    acc.extend(x['acc'])\n",
    "    loss.extend(x['loss'])\n",
    "    val_acc.extend(x['val_acc'])\n",
    "    val_loss.extend(x['val_loss'])\n",
    "\n",
    "plt.plot(epochs, acc, 'bo', label='Training acc.')\n",
    "plt.plot(epochs, val_acc, 'b', label='Validation acc.')\n",
    "plt.xlabel('Epochs')\n",
    "plt.ylabel('Accuracy')\n",
    "plt.legend()\n",
    "plt.show()"
   ]
  },
  {
   "cell_type": "code",
   "execution_count": 10,
   "metadata": {},
   "outputs": [
    {
     "data": {
      "image/png": "[encoded data removed]",
      "text/plain": [
       "<matplotlib.figure.Figure at 0x7f07cf718b70>"
      ]
     },
     "metadata": {},
     "output_type": "display_data"
    }
   ],
   "source": [
    "plt.plot(epochs, loss, 'bo', label='Training loss')\n",
    "plt.plot(epochs, val_loss, 'b', label='Validation loss')\n",
    "plt.xlabel('Epochs')\n",
    "plt.ylabel('Loss')\n",
    "plt.legend()\n",
    "plt.show()"
   ]
  },
  {
   "cell_type": "code",
   "execution_count": null,
   "metadata": {},
   "outputs": [],
   "source": []
  }
 ],
 "metadata": {
  "kernelspec": {
   "display_name": "Python 3",
   "language": "python",
   "name": "python3"
  },
  "language_info": {
   "codemirror_mode": {
    "name": "ipython",
    "version": 3
   },
   "file_extension": ".py",
   "mimetype": "text/x-python",
   "name": "python",
   "nbconvert_exporter": "python",
   "pygments_lexer": "ipython3",
   "version": "3.6.3"
  }
 },
 "nbformat": 4,
 "nbformat_minor": 2
}
