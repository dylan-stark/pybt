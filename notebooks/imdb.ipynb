{
 "cells": [
  {
   "cell_type": "markdown",
   "metadata": {},
   "source": [
    "# IMDB Example\n",
    "\n",
    "This example is based on an example from François Chollet's Deep Learning\n",
    "with Python that was also made available in the\n",
    "`3.5-classifying-movie-reviews.ipynb` notebook at\n",
    "\n",
    "    https://github.com/fchollet/deep-learning-with-python-notebooks"
   ]
  },
  {
   "cell_type": "code",
   "execution_count": 1,
   "metadata": {
    "scrolled": true
   },
   "outputs": [
    {
     "name": "stdout",
     "output_type": "stream",
     "text": [
      "Obtaining file:///src/workspace/pybt\n",
      "Requirement already satisfied: numpy>=1.9.1 in /opt/conda/lib/python3.6/site-packages (from pybt==0.0.1)\n",
      "Requirement already satisfied: pandas in /opt/conda/lib/python3.6/site-packages (from pybt==0.0.1)\n",
      "Requirement already satisfied: python-dateutil>=2 in /opt/conda/lib/python3.6/site-packages (from pandas->pybt==0.0.1)\n",
      "Requirement already satisfied: pytz>=2011k in /opt/conda/lib/python3.6/site-packages (from pandas->pybt==0.0.1)\n",
      "Requirement already satisfied: six>=1.5 in /opt/conda/lib/python3.6/site-packages (from python-dateutil>=2->pandas->pybt==0.0.1)\n",
      "Installing collected packages: pybt\n",
      "  Found existing installation: pybt 0.0.1\n",
      "    Uninstalling pybt-0.0.1:\n",
      "      Successfully uninstalled pybt-0.0.1\n",
      "  Running setup.py develop for pybt\n",
      "Successfully installed pybt\n"
     ]
    }
   ],
   "source": [
    "!cd .. && pip install -e ."
   ]
  },
  {
   "cell_type": "code",
   "execution_count": 2,
   "metadata": {
    "scrolled": true
   },
   "outputs": [
    {
     "name": "stderr",
     "output_type": "stream",
     "text": [
      "/opt/conda/lib/python3.6/site-packages/h5py/__init__.py:36: FutureWarning: Conversion of the second argument of issubdtype from `float` to `np.floating` is deprecated. In future, it will be treated as `np.float64 == np.dtype(float).type`.\n",
      "  from ._conv import register_converters as _register_converters\n",
      "Using TensorFlow backend.\n"
     ]
    }
   ],
   "source": [
    "from keras import layers, models\n",
    "from keras.datasets import imdb\n",
    "from keras.layers import Dense\n",
    "from keras.losses import binary_crossentropy\n",
    "from keras.optimizers import RMSprop\n",
    "from keras.utils import to_categorical\n",
    "\n",
    "import numpy as np\n",
    "\n",
    "from pybt import Population\n",
    "from pybt.member import StopAfter"
   ]
  },
  {
   "cell_type": "code",
   "execution_count": 3,
   "metadata": {},
   "outputs": [],
   "source": [
    "def vectorize_sequences(sequences, dimension=10000):\n",
    "    results = np.zeros((len(sequences), dimension))\n",
    "\n",
    "    for i, sequence in enumerate(sequences):\n",
    "        results[i, sequence] = 1.\n",
    "\n",
    "    return results\n",
    "\n",
    "(train_data, train_labels), (test_data, test_labels) = imdb.load_data(\n",
    "    num_words=10000)\n",
    "\n",
    "x_train = vectorize_sequences(train_data)\n",
    "x_test = vectorize_sequences(test_data)\n",
    "\n",
    "y_train = np.asarray(train_labels).astype('float32')\n",
    "y_test = np.asarray(test_labels).astype('float32')\n",
    "\n",
    "x_val = x_train[:10000]\n",
    "partial_x_train = x_train[10000:]\n",
    "\n",
    "y_val = y_train[:10000]\n",
    "partial_y_train = y_train[10000:]\n",
    "\n",
    "model = models.Sequential()\n",
    "model.add(Dense(16, activation='relu', input_shape=(10000,)))\n",
    "model.add(Dense(16, activation='relu'))\n",
    "model.add(Dense(1, activation='sigmoid'))\n",
    "\n",
    "model.compile(optimizer=RMSprop(lr=0.001),\n",
    "              loss=binary_crossentropy,\n",
    "              metrics=['accuracy'])"
   ]
  },
  {
   "cell_type": "code",
   "execution_count": 4,
   "metadata": {},
   "outputs": [
    {
     "name": "stdout",
     "output_type": "stream",
     "text": [
      "10000/10000 [==============================] - 1s 115us/step\n",
      "10000/10000 [==============================] - 1s 102us/step\n",
      "Train on 15000 samples, validate on 10000 samples\n",
      "Epoch 1/10\n",
      "15000/15000 [==============================] - 2s 131us/step - loss: 0.5085 - acc: 0.7815 - val_loss: 0.3797 - val_acc: 0.8690\n",
      "Epoch 2/10\n",
      "15000/15000 [==============================] - 2s 116us/step - loss: 0.3004 - acc: 0.9045 - val_loss: 0.3002 - val_acc: 0.8900\n",
      "Epoch 3/10\n",
      "15000/15000 [==============================] - 2s 113us/step - loss: 0.2179 - acc: 0.9281 - val_loss: 0.3081 - val_acc: 0.8717\n",
      "Epoch 4/10\n",
      "15000/15000 [==============================] - 2s 114us/step - loss: 0.1750 - acc: 0.9435 - val_loss: 0.2840 - val_acc: 0.8839\n",
      "Epoch 5/10\n",
      "15000/15000 [==============================] - 2s 116us/step - loss: 0.1426 - acc: 0.9545 - val_loss: 0.2848 - val_acc: 0.8866\n",
      "Epoch 6/10\n",
      "15000/15000 [==============================] - 2s 114us/step - loss: 0.1151 - acc: 0.9651 - val_loss: 0.3146 - val_acc: 0.8777\n",
      "Epoch 7/10\n",
      "15000/15000 [==============================] - 2s 114us/step - loss: 0.0978 - acc: 0.9705 - val_loss: 0.3127 - val_acc: 0.8848\n",
      "Epoch 8/10\n",
      "15000/15000 [==============================] - 2s 112us/step - loss: 0.0806 - acc: 0.9765 - val_loss: 0.3848 - val_acc: 0.8660\n",
      "Epoch 9/10\n",
      "15000/15000 [==============================] - 2s 114us/step - loss: 0.0659 - acc: 0.9821 - val_loss: 0.3631 - val_acc: 0.8780\n",
      "Epoch 10/10\n",
      "15000/15000 [==============================] - 2s 114us/step - loss: 0.0553 - acc: 0.9853 - val_loss: 0.3844 - val_acc: 0.8792\n",
      "10000/10000 [==============================] - 1s 102us/step\n",
      "10000/10000 [==============================] - 1s 102us/step\n",
      "Train on 15000 samples, validate on 10000 samples\n",
      "Epoch 11/20\n",
      "15000/15000 [==============================] - 3s 184us/step - loss: 0.0430 - acc: 0.9910 - val_loss: 0.4198 - val_acc: 0.8771\n",
      "Epoch 12/20\n",
      "15000/15000 [==============================] - 2s 112us/step - loss: 0.0374 - acc: 0.9920 - val_loss: 0.4761 - val_acc: 0.8658\n",
      "Epoch 13/20\n",
      "15000/15000 [==============================] - 2s 114us/step - loss: 0.0298 - acc: 0.9940 - val_loss: 0.4756 - val_acc: 0.8706\n",
      "Epoch 14/20\n",
      "15000/15000 [==============================] - 2s 113us/step - loss: 0.0251 - acc: 0.9947 - val_loss: 0.5031 - val_acc: 0.8718\n",
      "Epoch 15/20\n",
      "15000/15000 [==============================] - 2s 116us/step - loss: 0.0187 - acc: 0.9973 - val_loss: 0.6120 - val_acc: 0.8540\n",
      "Epoch 16/20\n",
      "15000/15000 [==============================] - 2s 113us/step - loss: 0.0156 - acc: 0.9979 - val_loss: 0.5788 - val_acc: 0.8653\n",
      "Epoch 17/20\n",
      "15000/15000 [==============================] - 2s 116us/step - loss: 0.0117 - acc: 0.9983 - val_loss: 0.6111 - val_acc: 0.8667\n",
      "Epoch 18/20\n",
      "15000/15000 [==============================] - 2s 116us/step - loss: 0.0124 - acc: 0.9976 - val_loss: 0.6365 - val_acc: 0.8675\n",
      "Epoch 19/20\n",
      "15000/15000 [==============================] - 2s 114us/step - loss: 0.0054 - acc: 0.9999 - val_loss: 0.6813 - val_acc: 0.8631\n",
      "Epoch 20/20\n",
      "15000/15000 [==============================] - 2s 111us/step - loss: 0.0116 - acc: 0.9971 - val_loss: 0.7025 - val_acc: 0.8672\n",
      "10000/10000 [==============================] - 1s 103us/step\n",
      "10000/10000 [==============================] - 1s 106us/step\n"
     ]
    }
   ],
   "source": [
    "# Create a population with this model and train for 2 steps\n",
    "pop = Population(model=model,\n",
    "    stopping_criteria=StopAfter(epochs=20),\n",
    "    step_args = {'epochs_per_step': 10,\n",
    "                 'fit_args': {\n",
    "                     'x': partial_x_train, 'y': partial_y_train,\n",
    "                     'validation_data': (x_val, y_val),\n",
    "                     'batch_size': 512}},\n",
    "    eval_args = {'x': x_val, 'y': y_val})\n",
    "model = pop.train()"
   ]
  },
  {
   "cell_type": "markdown",
   "metadata": {},
   "source": [
    "## Plotting population results"
   ]
  },
  {
   "cell_type": "code",
   "execution_count": 13,
   "metadata": {
    "scrolled": true
   },
   "outputs": [
    {
     "data": {
      "image/png": "[encoded data removed]",
      "text/plain": [
       "<matplotlib.figure.Figure at 0x7fd0b6eac9e8>"
      ]
     },
     "metadata": {},
     "output_type": "display_data"
    }
   ],
   "source": [
    "import matplotlib.pyplot as plt\n",
    "\n",
    "last_member = pop.observations()[-1]\n",
    "obs = last_member['observations'][-1]\n",
    "\n",
    "plt.plot(obs['epochs'], obs['acc'], 'bo', label='Training acc.')\n",
    "plt.plot(obs['epochs'], obs['val_acc'], 'b', label='Validation acc.')\n",
    "plt.xlabel('Epochs')\n",
    "plt.ylabel('Accuracy')\n",
    "plt.legend()\n",
    "plt.show()"
   ]
  },
  {
   "cell_type": "code",
   "execution_count": 14,
   "metadata": {},
   "outputs": [
    {
     "data": {
      "image/png": "[encoded data removed]",
      "text/plain": [
       "<matplotlib.figure.Figure at 0x7fd0b6ec5e80>"
      ]
     },
     "metadata": {},
     "output_type": "display_data"
    }
   ],
   "source": [
    "plt.plot(obs['epochs'], obs['loss'], 'bo', label='Training loss')\n",
    "plt.plot(obs['epochs'], obs['val_loss'], 'b', label='Validation loss')\n",
    "plt.xlabel('Epochs')\n",
    "plt.ylabel('Loss')\n",
    "plt.legend()\n",
    "plt.show()"
   ]
  },
  {
   "cell_type": "code",
   "execution_count": null,
   "metadata": {},
   "outputs": [],
   "source": []
  }
 ],
 "metadata": {
  "kernelspec": {
   "display_name": "Python 3",
   "language": "python",
   "name": "python3"
  },
  "language_info": {
   "codemirror_mode": {
    "name": "ipython",
    "version": 3
   },
   "file_extension": ".py",
   "mimetype": "text/x-python",
   "name": "python",
   "nbconvert_exporter": "python",
   "pygments_lexer": "ipython3",
   "version": "3.6.3"
  }
 },
 "nbformat": 4,
 "nbformat_minor": 2
}
